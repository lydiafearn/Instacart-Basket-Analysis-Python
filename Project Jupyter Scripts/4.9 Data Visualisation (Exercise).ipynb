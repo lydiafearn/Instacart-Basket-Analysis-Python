{
 "cells": [
  {
   "cell_type": "markdown",
   "id": "400310dd",
   "metadata": {},
   "source": [
    "# Exercise 4.9"
   ]
  },
  {
   "cell_type": "code",
   "execution_count": 1,
   "id": "0b475fc0",
   "metadata": {},
   "outputs": [],
   "source": [
    "#Import libraries\n",
    "\n",
    "import pandas as pd\n",
    "import numpy as np\n",
    "import os\n",
    "import matplotlib.pyplot as plt\n",
    "import seaborn as sns\n",
    "import scipy"
   ]
  },
  {
   "cell_type": "code",
   "execution_count": 2,
   "id": "220e5067",
   "metadata": {},
   "outputs": [],
   "source": [
    "# Import data\n",
    "path = r'C:\\Users\\lydia\\OneDrive\\Documents\\Career Foundry Data\\Data Immersion\\Acheivement 4\\Instacart Basket Analysis May-2023'\n",
    "df = pd.read_pickle(os.path.join(path, '02 Data', 'Prepared Data', 'order_product_3.pkl'))"
   ]
  },
  {
   "cell_type": "markdown",
   "id": "197dd53c",
   "metadata": {},
   "source": [
    "### Create bar chart"
   ]
  },
  {
   "cell_type": "code",
   "execution_count": 3,
   "id": "3e9ec3fb",
   "metadata": {},
   "outputs": [
    {
     "data": {
      "text/plain": [
       "<Axes: >"
      ]
     },
     "execution_count": 3,
     "metadata": {},
     "output_type": "execute_result"
    },
    {
     "data": {
      "image/png": "[encoded data removed]",
      "text/plain": [
       "<Figure size 640x480 with 1 Axes>"
      ]
     },
     "metadata": {},
     "output_type": "display_data"
    }
   ],
   "source": [
    "df['orders_day_of_week'].value_counts().sort_index().plot.bar(color = ['purple', 'red', 'pink', 'orange','yellow','green', 'blue'])"
   ]
  },
  {
   "cell_type": "code",
   "execution_count": 4,
   "id": "59b5ff2a",
   "metadata": {},
   "outputs": [
    {
     "data": {
      "image/png": "[encoded data removed]",
      "text/plain": [
       "<Figure size 640x480 with 1 Axes>"
      ]
     },
     "metadata": {},
     "output_type": "display_data"
    }
   ],
   "source": [
    "bar = df['orders_day_of_week'].value_counts().sort_index().plot.bar(color =['purple', 'red', 'pink', 'orange', 'yellow', 'green', 'blue'])"
   ]
  },
  {
   "cell_type": "code",
   "execution_count": 5,
   "id": "62f8e6d1",
   "metadata": {},
   "outputs": [],
   "source": [
    "bar.figure.savefig(os.path.join(path, '04 Analysis', 'Visualisations', 'bar_orders_dow.png'))"
   ]
  },
  {
   "cell_type": "markdown",
   "id": "77ea75d1",
   "metadata": {},
   "source": [
    "### Create histogram"
   ]
  },
  {
   "cell_type": "code",
   "execution_count": 6,
   "id": "0dfaf009",
   "metadata": {},
   "outputs": [
    {
     "data": {
      "text/plain": [
       "<Axes: ylabel='Frequency'>"
      ]
     },
     "execution_count": 6,
     "metadata": {},
     "output_type": "execute_result"
    },
    {
     "data": {
      "image/png": "[encoded data removed]",
      "text/plain": [
       "<Figure size 640x480 with 1 Axes>"
      ]
     },
     "metadata": {},
     "output_type": "display_data"
    }
   ],
   "source": [
    "df['prices'].plot.hist(bins = 25)"
   ]
  },
  {
   "cell_type": "markdown",
   "id": "4b453f00",
   "metadata": {},
   "source": [
    "Observation: odd histogram shape due to outlier of 99,999 in the prices column."
   ]
  },
  {
   "cell_type": "markdown",
   "id": "f292b762",
   "metadata": {},
   "source": [
    "### Creating scatterplot to check for the outliers"
   ]
  },
  {
   "cell_type": "code",
   "execution_count": null,
   "id": "96b00b61",
   "metadata": {},
   "outputs": [
    {
     "data": {
      "text/plain": [
       "<Axes: xlabel='prices', ylabel='prices'>"
      ]
     },
     "execution_count": 7,
     "metadata": {},
     "output_type": "execute_result"
    }
   ],
   "source": [
    "sns.scatterplot(x = 'prices', y = 'prices', data = df)"
   ]
  },
  {
   "cell_type": "markdown",
   "id": "0b8c9154",
   "metadata": {},
   "source": [
    "Obervation: potentially 2 outliers, with one near the 20,000 mark too."
   ]
  },
  {
   "cell_type": "code",
   "execution_count": null,
   "id": "a074a021",
   "metadata": {},
   "outputs": [],
   "source": [
    "# Further exploratory analysis on outliers\n",
    "df.loc[df['prices'] > 100]"
   ]
  },
  {
   "cell_type": "markdown",
   "id": "2e292ab4",
   "metadata": {},
   "source": [
    "Observation: 5127 rows of outliers that correspond to $14,900 and $99,000."
   ]
  },
  {
   "cell_type": "code",
   "execution_count": null,
   "id": "75dab2f4",
   "metadata": {},
   "outputs": [],
   "source": [
    "# Convert the outliers to missing \n",
    "df.loc[df['prices'] > 100, 'prices'] = np.nan"
   ]
  },
  {
   "cell_type": "code",
   "execution_count": null,
   "id": "7d13e97a",
   "metadata": {},
   "outputs": [],
   "source": [
    "df['prices'].max()"
   ]
  },
  {
   "cell_type": "markdown",
   "id": "15885f0b",
   "metadata": {},
   "source": [
    "### Making histogram again"
   ]
  },
  {
   "cell_type": "code",
   "execution_count": null,
   "id": "696365df",
   "metadata": {},
   "outputs": [],
   "source": [
    "hist = df['prices'].plot.hist(bins = 25)"
   ]
  },
  {
   "cell_type": "code",
   "execution_count": null,
   "id": "506a90c4",
   "metadata": {},
   "outputs": [],
   "source": [
    "hist_2 = df['prices'].plot.hist(bins = 70)"
   ]
  },
  {
   "cell_type": "code",
   "execution_count": null,
   "id": "67beec15",
   "metadata": {},
   "outputs": [],
   "source": [
    "# Export histogram\n",
    "hist_2.figure.savefig(os.path.join(path, '04 Analysis', 'Visualisations', 'hist_prices.png'))"
   ]
  },
  {
   "cell_type": "markdown",
   "id": "224cae78",
   "metadata": {},
   "source": [
    "### Creating Line Charts"
   ]
  },
  {
   "cell_type": "code",
   "execution_count": null,
   "id": "18ce54bc",
   "metadata": {},
   "outputs": [],
   "source": [
    "# Create random samples \n",
    "np.random.seed(4)\n",
    "dev = np.random.rand(len(df)) <= 0.7"
   ]
  },
  {
   "cell_type": "code",
   "execution_count": null,
   "id": "83f4a92b",
   "metadata": {},
   "outputs": [],
   "source": [
    "# Create a list holding True/False values to the test np.random.rand() <= 0.7\n",
    "dev"
   ]
  },
  {
   "cell_type": "code",
   "execution_count": null,
   "id": "aa30928d",
   "metadata": {},
   "outputs": [],
   "source": [
    "# Store 70% of the sample in the dataframe big\n",
    "big = df[dev]"
   ]
  },
  {
   "cell_type": "code",
   "execution_count": null,
   "id": "cf4cb2da",
   "metadata": {},
   "outputs": [],
   "source": [
    "# Store 30% of the sample in the dataframe small\n",
    "small = df[~dev]"
   ]
  },
  {
   "cell_type": "code",
   "execution_count": null,
   "id": "e8317c4a",
   "metadata": {},
   "outputs": [],
   "source": [
    "len(df)"
   ]
  },
  {
   "cell_type": "code",
   "execution_count": null,
   "id": "3c5ae090",
   "metadata": {},
   "outputs": [],
   "source": [
    "len(big) + len(small)"
   ]
  },
  {
   "cell_type": "code",
   "execution_count": null,
   "id": "695d8d87",
   "metadata": {},
   "outputs": [],
   "source": [
    "# Create dataframe with only the required columns to make processing time quicker\n",
    "df_2 = small[['orders_day_of_week', 'prices']]"
   ]
  },
  {
   "cell_type": "code",
   "execution_count": null,
   "id": "71664d2c",
   "metadata": {},
   "outputs": [],
   "source": [
    "# Create line chart\n",
    "line = sns.lineplot(data = df_2, x = 'orders_day_of_week', y = 'prices')"
   ]
  },
  {
   "cell_type": "code",
   "execution_count": null,
   "id": "98dda195",
   "metadata": {},
   "outputs": [],
   "source": [
    "# Export line graph\n",
    "line.figure.savefig(os.path.join(path, '04 Analysis', 'Visualisations', 'line_prices_dow.png'))"
   ]
  },
  {
   "cell_type": "code",
   "execution_count": null,
   "id": "1a4d4a90",
   "metadata": {},
   "outputs": [],
   "source": [
    "df_3 = small[['order_time_of_day', 'prices']]"
   ]
  },
  {
   "cell_type": "code",
   "execution_count": null,
   "id": "897cf5f9",
   "metadata": {},
   "outputs": [],
   "source": [
    "line_2 = sns.lineplot(data = df_3, x = 'order_time_of_day', y = 'prices')"
   ]
  }
 ],
 "metadata": {
  "kernelspec": {
   "display_name": "Python 3 (ipykernel)",
   "language": "python",
   "name": "python3"
  },
  "language_info": {
   "codemirror_mode": {
    "name": "ipython",
    "version": 3
   },
   "file_extension": ".py",
   "mimetype": "text/x-python",
   "name": "python",
   "nbconvert_exporter": "python",
   "pygments_lexer": "ipython3",
   "version": "3.10.9"
  }
 },
 "nbformat": 4,
 "nbformat_minor": 5
}
